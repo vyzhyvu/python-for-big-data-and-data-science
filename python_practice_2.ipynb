{
  "nbformat": 4,
  "nbformat_minor": 0,
  "metadata": {
    "colab": {
      "provenance": []
    },
    "kernelspec": {
      "name": "python3",
      "display_name": "Python 3"
    },
    "language_info": {
      "name": "python"
    }
  },
  "cells": [
    {
      "cell_type": "markdown",
      "source": [
        "# I. Змінні та памʼять."
      ],
      "metadata": {
        "id": "p9wwt0LZzNvn"
      }
    },
    {
      "cell_type": "markdown",
      "source": [
        "1. Створити змінні, що посилаються на два цілих числа, що однакові за значенням, де значення належить проміжку від -5 до 256. Перевірте, чи будуть ці змінні рівні тільки за значенням або ж ще будуть посилатися на один і той самий обʼєкт в памʼяті? Наведіть код та дайте текстову відповідь нижче."
      ],
      "metadata": {
        "id": "HTJrrm95xSV9"
      }
    },
    {
      "cell_type": "code",
      "execution_count": 5,
      "metadata": {
        "id": "TATni2vzayjG",
        "colab": {
          "base_uri": "https://localhost:8080/"
        },
        "outputId": "18972d61-31d2-496e-8fb9-6c32e9ffee3c"
      },
      "outputs": [
        {
          "output_type": "stream",
          "name": "stdout",
          "text": [
            "Перевірка для чисел х = 118 та y = 118\n",
            "x==y? True\n",
            "x is y? True\n",
            "\n",
            "Перевірка для чисел х = 301 та y = 301\n",
            "a==b? True\n",
            "a is b? False\n"
          ]
        }
      ],
      "source": [
        "x = 118\n",
        "y = 118\n",
        "print(f\"Перевірка для чисел х = {x} та y = {y}\")\n",
        "print(f\"x==y? {x==y}\")\n",
        "print(f\"x is y? {x is y}\")\n",
        "\n",
        "a = 301\n",
        "b = 301\n",
        "print(f\"\\nПеревірка для чисел х = {a} та y = {b}\")\n",
        "print(f\"a==b? {a==b}\")\n",
        "print(f\"a is b? {a is b}\")\n"
      ]
    },
    {
      "cell_type": "markdown",
      "source": [
        "Числа на проміжку -5 до 256 кешовані та посилаються на один і той самий об'єкт пам'яті. Саме тому x is y - true. Поза цим проміжком змінні з однаковими числами вже мають різну адресу в пам'яті, хоч їхні значення все одно залишаються рівними."
      ],
      "metadata": {
        "id": "zfRG_o3WbRdg"
      }
    },
    {
      "cell_type": "markdown",
      "source": [
        "*2*. За допомогою якої функції можна перевірити належність змінної до вказаного типу даних (напр. чи змінна True посилається на значення булевого та цілочисленого типу)?"
      ],
      "metadata": {
        "id": "ISORzt6M3vAt"
      }
    },
    {
      "cell_type": "code",
      "source": [
        "print(isinstance(True, bool))\n",
        "print(isinstance(1, bool))"
      ],
      "metadata": {
        "id": "9vL9CFaMbfyo",
        "colab": {
          "base_uri": "https://localhost:8080/"
        },
        "outputId": "24860896-b0d1-45e4-bc44-c2c90eae8aa0"
      },
      "execution_count": 8,
      "outputs": [
        {
          "output_type": "stream",
          "name": "stdout",
          "text": [
            "True\n",
            "False\n"
          ]
        }
      ]
    },
    {
      "cell_type": "markdown",
      "source": [
        "# II. Цілі числа та числа з рухомою комою"
      ],
      "metadata": {
        "id": "tRxugKAxwYLw"
      }
    },
    {
      "cell_type": "markdown",
      "source": [
        "3. Створити дві змінні, що посилаються на будь-які ціле число та число з рухомою комою та продемонструвати такі арифметичні операції: додавання, віднімання, ділення, множення, ділення без залишку, ділення по модулю, приведення до ступеню. Всі результати операцій вивести на екран."
      ],
      "metadata": {
        "id": "NLHkgd5Gybc8"
      }
    },
    {
      "cell_type": "code",
      "source": [
        "x = 135\n",
        "y = 135.35\n",
        "\n",
        "print(f\"x = {x}\")\n",
        "print(f\"x + 57 = {x+57}\")\n",
        "print(f\"x - 92 = {x-93}\")\n",
        "print(f\"x * 3 = {x*3}\")\n",
        "print(f\"x / 4 = {x/4}\")\n",
        "print(f\"x // 3 = {x // 3}\")\n",
        "print(f\"x % 4 = {x % 5}\")\n",
        "print(f\"x ^ 2 = {x ** 2}\")\n",
        "\n",
        "print(f\"\\ny = {y}\")\n",
        "print(f\"y + 57 = {y+57}\")\n",
        "print(f\"y - 92 = {y-93}\")\n",
        "print(f\"y * 3 = {y*3}\")\n",
        "print(f\"y / 4 = {y/4}\")\n",
        "print(f\"y // 3 = {y // 3}\")\n",
        "print(f\"y % 4 = {y % 5}\")\n",
        "print(f\"y ^ 2 = {y ** 2}\")"
      ],
      "metadata": {
        "id": "nb8u_3pjb2cA",
        "colab": {
          "base_uri": "https://localhost:8080/"
        },
        "outputId": "5a2c95d6-8897-47b4-9d71-1bcd6aa7b647"
      },
      "execution_count": 10,
      "outputs": [
        {
          "output_type": "stream",
          "name": "stdout",
          "text": [
            "x = 135\n",
            "x + 57 = 192\n",
            "x - 92 = 42\n",
            "x * 3 = 405\n",
            "x / 4 = 33.75\n",
            "x // 3 = 45\n",
            "x % 4 = 0\n",
            "x ^ 2 = 18225\n",
            "\n",
            "y = 135.35\n",
            "y + 57 = 192.35\n",
            "y - 92 = 42.349999999999994\n",
            "y * 3 = 406.04999999999995\n",
            "y / 4 = 33.8375\n",
            "y // 3 = 45.0\n",
            "y % 4 = 0.3499999999999943\n",
            "y ^ 2 = 18319.622499999998\n"
          ]
        }
      ]
    },
    {
      "cell_type": "markdown",
      "source": [
        "4. Використовуючи змінні з вправи 3, продемонструйте механізм явного перетворення типів, де числа з рухомою комою перетворюються на цілі числа. Також визначте змінну, що посилається на значення булевого типу і спробуйте явно привести її до цілого числа."
      ],
      "metadata": {
        "id": "1kBClKgPzZnC"
      }
    },
    {
      "cell_type": "code",
      "source": [
        "y_int = int(y)\n",
        "my_bool = True\n",
        "my_bool_int = int(my_bool)\n",
        "\n",
        "print(f\"y = {y}\")\n",
        "print(f\"y to integer = {y_int}\")\n",
        "print(f\"\\nbool = {my_bool}\")\n",
        "print(f\"bool to integer = {my_bool_int}\")"
      ],
      "metadata": {
        "id": "TbqJbkeUcKsD",
        "colab": {
          "base_uri": "https://localhost:8080/"
        },
        "outputId": "7858f801-8d29-4157-f35a-72e82bf58b05"
      },
      "execution_count": 11,
      "outputs": [
        {
          "output_type": "stream",
          "name": "stdout",
          "text": [
            "y = 135.35\n",
            "y to integer = 135\n",
            "\n",
            "bool = True\n",
            "bool to integer = 1\n"
          ]
        }
      ]
    },
    {
      "cell_type": "markdown",
      "source": [
        "# IІІ. Рядки (String)."
      ],
      "metadata": {
        "id": "EVJ7AflwxrZi"
      }
    },
    {
      "cell_type": "markdown",
      "source": [
        "5. Створити пустий рядок двома різними способами.\n",
        "\n",
        "\n"
      ],
      "metadata": {
        "id": "_s5ECzz9zE61"
      }
    },
    {
      "cell_type": "code",
      "source": [
        "my_str1 = \"\"\n",
        "my_str2 = str()\n",
        "\n",
        "print(my_str1)\n",
        "print(my_str2)"
      ],
      "metadata": {
        "id": "fkZJHu9Scvc-",
        "colab": {
          "base_uri": "https://localhost:8080/"
        },
        "outputId": "26a8f730-66d2-495f-8ef1-6f624f89f220"
      },
      "execution_count": 12,
      "outputs": [
        {
          "output_type": "stream",
          "name": "stdout",
          "text": [
            "\n",
            "\n"
          ]
        }
      ]
    },
    {
      "cell_type": "markdown",
      "source": [
        "6. Створити рядок з апострофом. Зробити його сирим. Вивести обидва рядка на екран."
      ],
      "metadata": {
        "id": "4Bdn9J3MzLf_"
      }
    },
    {
      "cell_type": "code",
      "source": [
        "ap_str = \"\\'\"\n",
        "print(ap_str)\n",
        "\n",
        "ap_str_2 = r\"\\'\"\n",
        "print(ap_str_2)"
      ],
      "metadata": {
        "id": "ivji_hsmc0GH",
        "colab": {
          "base_uri": "https://localhost:8080/"
        },
        "outputId": "dd959149-ebbb-4836-80a8-98fb76f5d42e"
      },
      "execution_count": 14,
      "outputs": [
        {
          "output_type": "stream",
          "name": "stdout",
          "text": [
            "'\n",
            "\\'\n"
          ]
        }
      ]
    },
    {
      "cell_type": "markdown",
      "source": [
        "7. Створити змінну, що буде посилатися на Ваше прізвище латинкою. Створити форматований рядок, який буде мати вигляд \"My surname is ______\", де на місці нижніх підкреслень буде Ваше прізвище зі змінної."
      ],
      "metadata": {
        "id": "bg_d8wM4z8dS"
      }
    },
    {
      "cell_type": "code",
      "source": [
        "surname = 'Mudra'\n",
        "surname_str = f'My surname is {surname}'\n",
        "print(surname_str)"
      ],
      "metadata": {
        "id": "kuxFgpWndACq",
        "colab": {
          "base_uri": "https://localhost:8080/"
        },
        "outputId": "6292e498-1865-4f62-c5ef-83958d5c91cd"
      },
      "execution_count": 15,
      "outputs": [
        {
          "output_type": "stream",
          "name": "stdout",
          "text": [
            "My surname is Mudra\n"
          ]
        }
      ]
    },
    {
      "cell_type": "markdown",
      "source": [
        "8. Маючи рядок \"My dog is crazy.\" перетворити його на список [\"my\", \"dog\", \"is\", \"crazy\"]"
      ],
      "metadata": {
        "id": "1Nc6RqvQ0hxU"
      }
    },
    {
      "cell_type": "code",
      "source": [
        "dog = \"My dog is crazy\"\n",
        "dog.split()"
      ],
      "metadata": {
        "id": "w1Ya4RqedUhw",
        "colab": {
          "base_uri": "https://localhost:8080/"
        },
        "outputId": "8f72dbcb-190c-4b2d-a24d-8ca506faa2f9"
      },
      "execution_count": 17,
      "outputs": [
        {
          "output_type": "execute_result",
          "data": {
            "text/plain": [
              "['My', 'dog', 'is', 'crazy']"
            ]
          },
          "metadata": {},
          "execution_count": 17
        }
      ]
    },
    {
      "cell_type": "markdown",
      "source": [
        "# IV. Робота зі списками."
      ],
      "metadata": {
        "id": "GYVqN9uP1D4n"
      }
    },
    {
      "cell_type": "markdown",
      "source": [
        "9. Створити список двома різними за синтаксисом способами. За допомогою вбудованої функції обчисліть довжину одного з них."
      ],
      "metadata": {
        "id": "7-DeDunw2sO-"
      }
    },
    {
      "cell_type": "code",
      "source": [
        "list1 = [2,4,5,1]\n",
        "list2 = list(\"привіт\")\n",
        "print(list1)\n",
        "print(f\"length of list1 {len(list1)}\\n\")\n",
        "print(list2)\n",
        "print(f\"length of list2 {len(list2)}\")"
      ],
      "metadata": {
        "id": "zxg06Uuxdyoh",
        "colab": {
          "base_uri": "https://localhost:8080/"
        },
        "outputId": "1414d9d4-e386-417a-96e0-16534470c5cc"
      },
      "execution_count": 19,
      "outputs": [
        {
          "output_type": "stream",
          "name": "stdout",
          "text": [
            "[2, 4, 5, 1]\n",
            "length of list1 4\n",
            "\n",
            "['п', 'р', 'и', 'в', 'і', 'т']\n",
            "length of list2 6\n"
          ]
        }
      ]
    },
    {
      "cell_type": "markdown",
      "source": [
        "10. Створіть два списка та за допомогою спеціального методу додайте другий з них в якості останнього елемента першого."
      ],
      "metadata": {
        "id": "8vmGUTjL22gI"
      }
    },
    {
      "cell_type": "code",
      "source": [
        "one = [3,4,2,1]\n",
        "two = [3,4,1]\n",
        "print(one)\n",
        "print(two)\n",
        "one.append(two)\n",
        "\n",
        "print(one)"
      ],
      "metadata": {
        "id": "uHtjWYw7d7hm",
        "colab": {
          "base_uri": "https://localhost:8080/"
        },
        "outputId": "a1a67277-f5d8-4276-9917-56f156fdc50c"
      },
      "execution_count": 21,
      "outputs": [
        {
          "output_type": "stream",
          "name": "stdout",
          "text": [
            "[3, 4, 2, 1]\n",
            "[3, 4, 1]\n",
            "[3, 4, 2, 1, [3, 4, 1]]\n"
          ]
        }
      ]
    },
    {
      "cell_type": "markdown",
      "source": [
        "11. Створіть список, де елементами цього списку також є списки. Отримай перший елемент з останнього рядка та виведи значення на екран."
      ],
      "metadata": {
        "id": "JC3BkD-67_--"
      }
    },
    {
      "cell_type": "code",
      "source": [
        "my_list = [\n",
        "    [1, 3, 1],\n",
        "    [9, 4, 6],\n",
        "    [2, 2, 4]\n",
        "]\n",
        "\n",
        "first_el_last_row = my_list[-1][0]\n",
        "\n",
        "print(my_list)\n",
        "print(\"First element from the last row:\", first_el_last_row)"
      ],
      "metadata": {
        "id": "Kz2jZHsGeLlz",
        "colab": {
          "base_uri": "https://localhost:8080/"
        },
        "outputId": "3b07697c-bdb8-461a-8549-2ebcd6dddbb3"
      },
      "execution_count": 23,
      "outputs": [
        {
          "output_type": "stream",
          "name": "stdout",
          "text": [
            "[[1, 3, 1], [9, 4, 6], [2, 2, 4]]\n",
            "First element from the last row: 2\n"
          ]
        }
      ]
    },
    {
      "cell_type": "markdown",
      "source": [
        "12. Створіть список з десяти елементів різного типу. Отримайте всі елементи, окрім двох перших та двох останніх та збережіть їх в новій змінній."
      ],
      "metadata": {
        "id": "JA47PKTv8zFK"
      }
    },
    {
      "cell_type": "code",
      "source": [
        "new_list = [10.3, 20, False,\n",
        "            \"Kate\", {\"a\": 1, \"b\": 2}, (4, 4, 2),\n",
        "             [2, 4, 5], None,\n",
        "            2+5j, -3]\n",
        "\n",
        "new_list_2 = new_list[2:-2]\n",
        "\n",
        "print(\"List:\", new_list)\n",
        "print(\"New list:\", new_list_2)"
      ],
      "metadata": {
        "id": "_rHdUR-ueP4-",
        "colab": {
          "base_uri": "https://localhost:8080/"
        },
        "outputId": "48d85100-2dd4-49fb-a158-71b682f1650f"
      },
      "execution_count": 27,
      "outputs": [
        {
          "output_type": "stream",
          "name": "stdout",
          "text": [
            "List: [10.3, 20, False, 'Kate', {'a': 1, 'b': 2}, (4, 4, 2), [2, 4, 5], None, (2+5j), -3]\n",
            "New list: [False, 'Kate', {'a': 1, 'b': 2}, (4, 4, 2), [2, 4, 5], None]\n"
          ]
        }
      ]
    },
    {
      "cell_type": "markdown",
      "source": [
        "# V. Робота з кортежами."
      ],
      "metadata": {
        "id": "pCjR1dJb1Qbi"
      }
    },
    {
      "cell_type": "markdown",
      "source": [
        "14. Створити кортеж з один елементом."
      ],
      "metadata": {
        "id": "fAZCxAX06R_k"
      }
    },
    {
      "cell_type": "code",
      "source": [
        "y = (2,)\n",
        "print(y)"
      ],
      "metadata": {
        "id": "H7d82WkQev3e",
        "colab": {
          "base_uri": "https://localhost:8080/"
        },
        "outputId": "349db558-c6f1-42d8-afa2-a764f47c8690"
      },
      "execution_count": 29,
      "outputs": [
        {
          "output_type": "stream",
          "name": "stdout",
          "text": [
            "(2,)\n"
          ]
        }
      ]
    },
    {
      "cell_type": "markdown",
      "source": [
        "15. Порівняйте список та кортеж. Назвіть схожості та відмінності, випадки використання."
      ],
      "metadata": {
        "id": "8LCtYcmI6w1M"
      }
    },
    {
      "cell_type": "markdown",
      "source": [
        "Відмінності:\n",
        "\n",
        "* Кортеж - запис у дужках (), список - []\n",
        "* Список можна змінювати, кортеж - ні\n",
        "* Кортеж можна зробити ключем словнику, список - ні\n",
        "* Список підтримує операції, наприклад, як додати чи забрати елемент, а кортеж - ні\n",
        "* Кортеж працює швидше\n",
        "\n",
        "Спільні риси:\n",
        "* можуть зберігати різні типи об'єктів\n",
        "* елементи є індексованими\n",
        "* можна застосувати для ітерації в циклі for"
      ],
      "metadata": {
        "id": "fUsN1Hnue0C6"
      }
    },
    {
      "cell_type": "markdown",
      "source": [
        "16. Створіть кортеж з 11ти елементів чисел з рухомою комою та отримайте кожен парний за індексом елемент в зворотньому порядку. Наприклад, маючи (1.2, 2.3, 3.3, 4.3, 5.3, 6.3, 7.3, 8.3, 9.3, 0.3), отримати (0.3, 8.3, 6.3, 4.3, 2.3). Результат збережіть в нову змінну та виведіть на екран."
      ],
      "metadata": {
        "id": "m0xrwFijAmDD"
      }
    },
    {
      "cell_type": "code",
      "source": [
        "my_tuple = (1.2, 2.3, 3.3, 4.3, 5.3, 6.3, 7.3, 8.3, 9.3, 0.3)\n",
        "\n",
        "new_tuple = my_tuple[::-2]\n",
        "\n",
        "print(new_tuple)"
      ],
      "metadata": {
        "id": "p-5DAH6XfAGA",
        "colab": {
          "base_uri": "https://localhost:8080/"
        },
        "outputId": "a73d1a84-4464-4da2-a760-4dbb3d078ecd"
      },
      "execution_count": 30,
      "outputs": [
        {
          "output_type": "stream",
          "name": "stdout",
          "text": [
            "(0.3, 8.3, 6.3, 4.3, 2.3)\n"
          ]
        }
      ]
    },
    {
      "cell_type": "markdown",
      "source": [
        "# VI. Множини (Set)."
      ],
      "metadata": {
        "id": "rW_I9dt3x6cW"
      }
    },
    {
      "cell_type": "markdown",
      "source": [
        "17. Створити множину без елементів. Після цого за допомогою методу додайте кілька різних елементів до множини. Чи множини є змінним типом даних?"
      ],
      "metadata": {
        "id": "zNjRLHLw1Bgg"
      }
    },
    {
      "cell_type": "code",
      "source": [
        "my_set = set()\n",
        "\n",
        "my_set.add(1)\n",
        "my_set.add(\"f\")\n",
        "my_set.add(None)\n",
        "\n",
        "print(my_set)"
      ],
      "metadata": {
        "id": "KOv7zc2Kfo4N",
        "colab": {
          "base_uri": "https://localhost:8080/"
        },
        "outputId": "09d92758-f69c-4367-ace0-b648270db2d8"
      },
      "execution_count": 31,
      "outputs": [
        {
          "output_type": "stream",
          "name": "stdout",
          "text": [
            "{1, 'f', None}\n"
          ]
        }
      ]
    },
    {
      "cell_type": "markdown",
      "source": [
        "Множина є змінним типом, бо в нього можна додавати елементи або видаляти з нього, або робити операції: обʼєднання, різниці, пересічі та симетричної різниці"
      ],
      "metadata": {
        "id": "vxS6dVYiftZQ"
      }
    },
    {
      "cell_type": "markdown",
      "source": [
        "18. Створити множину, маючи список my_list = [1, 1, 2, 67, 67, 8, 9]. Пояснити, чому \"зникли\" деякі елементи."
      ],
      "metadata": {
        "id": "gHpT0Zw_1HEF"
      }
    },
    {
      "cell_type": "code",
      "source": [
        "my_list = [1, 1, 2, 67, 67, 8, 9]\n",
        "my_set = set(my_list)\n",
        "print(my_list)\n",
        "print(my_set)"
      ],
      "metadata": {
        "id": "qCN4uvJ_fxmu",
        "colab": {
          "base_uri": "https://localhost:8080/"
        },
        "outputId": "a284077f-3bda-4ba2-b386-746050283ee8"
      },
      "execution_count": 32,
      "outputs": [
        {
          "output_type": "stream",
          "name": "stdout",
          "text": [
            "[1, 1, 2, 67, 67, 8, 9]\n",
            "{1, 2, 67, 8, 9}\n"
          ]
        }
      ]
    },
    {
      "cell_type": "markdown",
      "source": [
        "У множинах елементи не можуть дублюватись"
      ],
      "metadata": {
        "id": "tFNc1e20fyny"
      }
    },
    {
      "cell_type": "markdown",
      "source": [
        "19. Створіть дві множини. Продемонстуйте над ними операції: обʼєднання, різниці, пересічі та симетричної різниці. Використовуйте методи, що не змінюють множини, а створюють нові."
      ],
      "metadata": {
        "id": "SRMkGizS1UwY"
      }
    },
    {
      "cell_type": "code",
      "source": [
        "set1 = {4, \"f\", 38, 93, None, True}\n",
        "set2 = {True, 5, \"f\", 7, 8}\n",
        "\n",
        "print(set1)\n",
        "print(set2)\n",
        "\n",
        "union_set = set1.union(set2)\n",
        "print(\"Union:\", union_set)\n",
        "\n",
        "diff_set = set1.difference(set2)\n",
        "print(\"Diffrence:\", diff_set)\n",
        "\n",
        "intersect_set = set1.intersection(set2)\n",
        "print(\"Intersection:\", intersect_set)\n",
        "\n",
        "sym_diff = set1.symmetric_difference(set2)\n",
        "print(\"Symmetric difference:\", sym_diff)"
      ],
      "metadata": {
        "id": "h0T-VuDnf3Ri",
        "colab": {
          "base_uri": "https://localhost:8080/"
        },
        "outputId": "91f7e40b-c8f1-40a3-8df2-704d41b7c86c"
      },
      "execution_count": 33,
      "outputs": [
        {
          "output_type": "stream",
          "name": "stdout",
          "text": [
            "{'f', True, 4, 38, 93, None}\n",
            "{'f', True, 5, 7, 8}\n",
            "Union: {'f', True, 4, 5, 38, 7, 8, 93, None}\n",
            "Diffrence: {None, 4, 93, 38}\n",
            "Intersection: {'f', True}\n",
            "Symmetric difference: {4, 5, 38, 7, 8, 93, None}\n"
          ]
        }
      ]
    },
    {
      "cell_type": "markdown",
      "source": [
        "# VII. Словники (Dictionary)."
      ],
      "metadata": {
        "id": "kWc8gkzTx7Ea"
      }
    },
    {
      "cell_type": "markdown",
      "source": [
        "20. Створіть пустий словник. До нього додайте чотири пари елементів такі, щоб їхні ключі були різних типів. Чи може список бути ключем? Чому?"
      ],
      "metadata": {
        "id": "i5FLwj-B2ybQ"
      }
    },
    {
      "cell_type": "code",
      "source": [
        "my_dict = {}\n",
        "\n",
        "my_dict[\"3\"] = \"string\"\n",
        "my_dict[3] = \"int\"\n",
        "my_dict[3.14] = \"float\"\n",
        "my_dict[(3, 14)] = \"tuple\"\n",
        "\n",
        "print(my_dict)"
      ],
      "metadata": {
        "id": "hxgv3BzrgLAV",
        "colab": {
          "base_uri": "https://localhost:8080/"
        },
        "outputId": "0a87e578-4a28-434a-a7a9-c213856bac3b"
      },
      "execution_count": 34,
      "outputs": [
        {
          "output_type": "stream",
          "name": "stdout",
          "text": [
            "{'3': 'string', 3: 'int', 3.14: 'float', (3, 14): 'tuple'}\n"
          ]
        }
      ]
    },
    {
      "cell_type": "markdown",
      "source": [
        "Список, на відміну від кортежа, не може бути ключем, бо він не є хешованим та є змінним типом даних"
      ],
      "metadata": {
        "id": "zwa7UVN-gR3m"
      }
    },
    {
      "cell_type": "markdown",
      "source": [
        "21. Створіть словник, де значенням в одній з пар теж буде словник, який теж має вкладений словник. Виведіть на екран значення, що міститься в словнику, що знаходиться на найнижчому рівні ієрархії вкладеності (найбільш внутрішній)."
      ],
      "metadata": {
        "id": "WM_pMlJsgoNf"
      }
    },
    {
      "cell_type": "code",
      "source": [
        "dict_1 = {1: 2,\n",
        "          3: 4}\n",
        "\n",
        "dict_2 = {5: dict_1}\n",
        "\n",
        "print(dict_1)\n",
        "print(dict_2[5][3])"
      ],
      "metadata": {
        "id": "60dlP7IHhAy4",
        "colab": {
          "base_uri": "https://localhost:8080/"
        },
        "outputId": "e3b2e470-6c85-43d2-ff48-61d90ae8bb07"
      },
      "execution_count": 38,
      "outputs": [
        {
          "output_type": "stream",
          "name": "stdout",
          "text": [
            "{1: 2, 3: 4}\n",
            "4\n"
          ]
        }
      ]
    },
    {
      "cell_type": "markdown",
      "source": [
        "# Вітаю! Ви велика(ий) молодець, що впоралась(вся). Похваліть себе та побалуйте чимось приємним. Я Вами пишаюся."
      ],
      "metadata": {
        "id": "xOZP0hkx6cCr"
      }
    }
  ]
}